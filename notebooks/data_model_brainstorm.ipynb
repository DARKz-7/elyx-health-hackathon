{
 "cells": [
  {
   "cell_type": "markdown",
   "id": "af406195",
   "metadata": {},
   "source": [
    "# Elyx Health Hackathon — Data Model Brainstorm\n",
    "\n",
    "This notebook is for brainstorming and prototyping the core data model for the project.\n",
    "\n",
    "## Core Entities\n",
    "- Member\n",
    "- TeamMember\n",
    "- Conversation\n",
    "- Intervention\n",
    "- DiagnosticTest\n",
    "- Plan\n",
    "- Metric\n"
   ]
  },
  {
   "cell_type": "markdown",
   "id": "6a364581",
   "metadata": {},
   "source": [
    "### Member\n",
    "\n",
    "- id\n",
    "- name\n",
    "- dob\n",
    "- age\n",
    "- gender\n",
    "- residence\n",
    "- travel_hubs\n",
    "- occupation\n",
    "- health_goals\n",
    "- chronic_conditions\n",
    "\n",
    "### Conversation\n",
    "\n",
    "- id\n",
    "- timestamp\n",
    "- sender\n",
    "- recipient\n",
    "- content (message)\n",
    "- type (query, update, report)\n",
    "- related_event (optional)\n"
   ]
  }
 ],
 "metadata": {
  "language_info": {
   "name": "python"
  }
 },
 "nbformat": 4,
 "nbformat_minor": 5
}
